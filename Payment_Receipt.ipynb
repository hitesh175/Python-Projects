{
  "nbformat": 4,
  "nbformat_minor": 0,
  "metadata": {
    "colab": {
      "provenance": []
    },
    "kernelspec": {
      "name": "python3",
      "display_name": "Python 3"
    },
    "language_info": {
      "name": "python"
    }
  },
  "cells": [
    {
      "cell_type": "code",
      "source": [
        "pip install reportlab\n"
      ],
      "metadata": {
        "colab": {
          "base_uri": "https://localhost:8080/"
        },
        "id": "SXzyEKbtMGF1",
        "outputId": "d89bb012-348b-417f-9823-57975257d1cc"
      },
      "execution_count": null,
      "outputs": [
        {
          "output_type": "stream",
          "name": "stdout",
          "text": [
            "Requirement already satisfied: reportlab in /usr/local/lib/python3.10/dist-packages (4.0.5)\n",
            "Requirement already satisfied: pillow>=9.0.0 in /usr/local/lib/python3.10/dist-packages (from reportlab) (9.4.0)\n"
          ]
        }
      ]
    },
    {
      "cell_type": "code",
      "source": [
        "from reportlab.platypus import SimpleDocTemplate, Table, Paragraph, TableStyle\n",
        "from reportlab.lib import colors\n",
        "from reportlab.lib.pagesizes import A4\n",
        "from reportlab.lib.styles import getSampleStyleSheet\n",
        "\n",
        "DATA = [\n",
        "    [\"Date\", \"Name\", \"Subscription\", \"Price (Rs.)\"],\n",
        "    [\"16/11/2020\", \"Full Stack Development with React & Node JS - Live\", \"Lifetime\", \"10,999.00/-\"],\n",
        "    [\"16/11/2020\", \"Classes: Live Session\", \"6 months\", \"9,999.00/-\"],\n",
        "    [\"Sub Total\", \"\", \"\", \"20,999.00/-\"],\n",
        "    [\"Discount\", \"\", \"\", \"-3,000.00/-\"],\n",
        "    [\"Total\", \"\", \"\", \"17,998.00/-\"],\n",
        "]\n",
        "DATA2 = [\n",
        "    [\"Date\", \"Name\", \"Subscription\", \"Price (Rs.)\"],\n",
        "    [\"17/11/2020\", \"Another Course\", \"3 months\", \"5,999.00/-\"],\n",
        "    [\"17/11/2020\", \"Additional Session\", \"1 month\", \"2,499.00/-\"],\n",
        "    [\"Sub Total\", \"\", \"\", \"8,498.00/-\"],\n",
        "    [\"Discount\", \"\", \"\", \"-1,000.00/-\"],\n",
        "    [\"Total\", \"\", \"\", \"7,498.00/-\"],\n",
        "]\n",
        "\n",
        "pdf = SimpleDocTemplate(\"receipt92.pdf\", pagesize=A4)\n",
        "styles = getSampleStyleSheet()\n",
        "title_style = styles[\"Heading1\"]\n",
        "title_style.alignment = 1\n",
        "title = Paragraph(\"presidency\", title_style)\n",
        "\n",
        "style = TableStyle([\n",
        "    (\"BOX\", (0, 0), (-1, -1), 1, colors.black),\n",
        "    (\"GRID\", (0, 0), (3, 4), 1, colors.black),\n",
        "    (\"BACKGROUND\", (0, 0), (3, 0), colors.gray),\n",
        "    (\"TEXTCOLOR\", (0, 0), (-1, 0), colors.whitesmoke),\n",
        "    (\"ALIGN\", (0, 0), (-1, -1), \"CENTER\"),\n",
        "    (\"BACKGROUND\", (0, 1), (-1, -1), colors.beige),\n",
        "])\n",
        "style2 = TableStyle([\n",
        "    (\"BOX\", (0, 0), (-1, -1), 1, colors.black),\n",
        "    (\"GRID\", (0, 0), (3, 4), 1, colors.black),\n",
        "    (\"BACKGROUND\", (0, 0), (3, 0), colors.gray),\n",
        "    (\"TEXTCOLOR\", (0, 0), (-1, 0), colors.whitesmoke),\n",
        "    (\"ALIGN\", (0, 0), (-1, -1), \"CENTER\"),\n",
        "    (\"BACKGROUND\", (0, 1), (-1, -1), colors.lightblue),  # You can customize the color\n",
        "])\n",
        "\n",
        "table = Table(DATA, style=style)\n",
        "table2 = Table(DATA2, style=style2)\n",
        "\n",
        "try:\n",
        "    pdf.build([title, table])\n",
        "    print(\"PDF generated successfully!\")\n",
        "except Exception as e:\n",
        "    print(f\"Error: {str(e)}\")\n"
      ],
      "metadata": {
        "colab": {
          "base_uri": "https://localhost:8080/"
        },
        "id": "g74XRHFh0dax",
        "outputId": "3343145f-e833-4a82-d245-2365c36ce54b"
      },
      "execution_count": null,
      "outputs": [
        {
          "output_type": "stream",
          "name": "stdout",
          "text": [
            "PDF generated successfully!\n"
          ]
        }
      ]
    }
  ]
}